{
 "cells": [
  {
   "cell_type": "markdown",
   "metadata": {},
   "source": [
    "# Demystifying Machine Learning\n",
    "By: Stephanie Tzeng<br/>Senior Data Scientist @ AppNexus\n",
    "\n",
    "> Machine Learning is a popular new field with the benefit of amazing branding. <br/>\n",
    "> Intimidated by the name? Don't be! <br/>"
   ]
  },
  {
   "cell_type": "markdown",
   "metadata": {},
   "source": [
    "## Other Resources...\n",
    "If you are really interested in this field and want to learn from a trained teacher, check out the following to get started:\n",
    "\n",
    "- Coursera: Andrew Ng's Machine Learning Class\n",
    "- Stanford Online: Statistical Learning (Hastie and Tibshirani)\n",
    "\n",
    "Online tutorials:\n",
    "- Scikit Learn Online Tutorial\n",
    "\n",
    "\n",
    "# Ok! Let's get started.\n",
    "My purpose today is to unveil the scary black box of machine learning. Once you understand the general concept, you can start to grasp that all machine learning is built using the same fundamental principles. <br/>\n",
    "\n",
    "- My talk is super introductory\n",
    "- Mainly showing that machine learning isn't as scary as it sounds.\n",
    "\n",
    "## You will have unlocked the key to the \"magic\" of machine learning.\n",
    "\n",
    "<br/><br/><br/>\n",
    "\n",
    "# Does this look familiar?"
   ]
  },
  {
   "cell_type": "code",
   "execution_count": 1,
   "metadata": {
    "collapsed": false
   },
   "outputs": [
    {
     "data": {
      "image/png": "[encoded data removed]",
      "text/plain": [
       "<IPython.core.display.Image object>"
      ]
     },
     "execution_count": 1,
     "metadata": {
      "image/png": {
       "width": 500
      }
     },
     "output_type": "execute_result"
    }
   ],
   "source": [
    "from IPython.display import Image\n",
    "Image('files/fitline.png', width=500)"
   ]
  },
  {
   "cell_type": "markdown",
   "metadata": {},
   "source": [
    "# Linear regression is a form of machine learning.\n",
    "\n",
    "# Given any new $x$ you can predict $y$.\n",
    "\n",
    "# This is a model:\n",
    "\n",
    "# $y = mx + b$\n",
    "\n",
    "\n",
    "# What does it predict?\n",
    "\n",
    "# It predicts $y$.\n",
    "\n",
    "$y$:  response (what you want to predict, output variable)<br/>\n",
    "$x$:  features (data, observation, input variable) <br/>\n",
    "$m$:  parameter (slope) <br/>\n",
    "$b$:  bias (y intercept) <br/>\n",
    "\n",
    "## Example: Housing Prices\n",
    "$y$: response (price of house)<br/>\n",
    "$x$: features (square footage, zip code, # of windows)"
   ]
  },
  {
   "cell_type": "markdown",
   "metadata": {},
   "source": [
    "## Suppose you want to predict $y$ given $x$.\n",
    "\n",
    "### You have $N$ points to fit.\n",
    "\n",
    "### So you decide on a model (line).\n",
    "\n",
    "## Let's try this algorithm:\n",
    "\n",
    "Train the model (fit the line) by:\n",
    " 1. Guess some set of parameters $m$ and $b$.\n",
    " 1. Loop until error is minimized:\n",
    "  - Tweak $m$ and $b$.\n",
    "  - For each of the N values of $x_i$,<br/>'predict' $y_i'$ using $m x_i + b$.\n",
    "  - Calculate error by adding up all of the squared differences $(y_i - y_i')^2$.\n",
    "\n",
    "## You have now done<br/>\"machine learning\" and<br/>you have a model that predicts.\n",
    "\n",
    "### In fact, some implementations of well-known machine learning algorithms are implemented similarly!"
   ]
  },
  {
   "cell_type": "markdown",
   "metadata": {},
   "source": [
    "# Experiment:  \n",
    "## if we create some *observations* $x$ <br/>where we know the *target* $y$ and *parameters* $(m, b)$, <br/> can we can *learn* $(m', b')$?"
   ]
  },
  {
   "cell_type": "code",
   "execution_count": 2,
   "metadata": {
    "collapsed": false
   },
   "outputs": [],
   "source": [
    "import pandas as pd\n",
    "import numpy as np\n",
    "import scipy as sp\n",
    "from scipy.stats import linregress  # linear regression (aka, machine learning)\n",
    "import matplotlib.pyplot as plt\n",
    "import seaborn as sns\n",
    "pd.options.display.precision = 2\n",
    "%matplotlib inline"
   ]
  },
  {
   "cell_type": "code",
   "execution_count": 3,
   "metadata": {
    "collapsed": false
   },
   "outputs": [
    {
     "data": {
      "image/png": "[encoded data removed]",
      "text/plain": [
       "<matplotlib.figure.Figure at 0x114380f90>"
      ]
     },
     "metadata": {},
     "output_type": "display_data"
    }
   ],
   "source": [
    "N = 100  # Number of data points.\n",
    "\n",
    "# Observations (features, data, independent variable).\n",
    "x = np.random.uniform(size=N)\n",
    "\n",
    "# Parameters and constants.\n",
    "# (Merely for programming convenience.)\n",
    "m = 7.2\n",
    "b = 2.8\n",
    "\n",
    "# Target (dependent variable).\n",
    "y = m * x + b\n",
    "\n",
    "fig = plt.figure(figsize=(8,6))\n",
    "ax = fig.gca()\n",
    "tmp = ax.plot(x, y, 'o')\n",
    "ax.set_xlabel('x')\n",
    "tmp = ax.set_ylabel('y')"
   ]
  },
  {
   "cell_type": "code",
   "execution_count": 4,
   "metadata": {
    "collapsed": false
   },
   "outputs": [
    {
     "data": {
      "text/plain": [
       "(7.2000000000000028, 2.7999999999999976)"
      ]
     },
     "execution_count": 4,
     "metadata": {},
     "output_type": "execute_result"
    }
   ],
   "source": [
    "m_, b_, r_value, p_value, std_err = linregress(x, y)\n",
    "m_, b_"
   ]
  },
  {
   "cell_type": "code",
   "execution_count": 5,
   "metadata": {
    "collapsed": true
   },
   "outputs": [],
   "source": [
    "def linear_regression(x, y, m, b):\n",
    "    m_, b_, r_value, p_value, std_err = linregress(x, y)\n",
    "    df = pd.DataFrame({'m': [m, m_], 'b': [b, b_]}, index=('exact', 'learned'))\n",
    "    return df[['m', 'b']]"
   ]
  },
  {
   "cell_type": "code",
   "execution_count": 6,
   "metadata": {
    "collapsed": false
   },
   "outputs": [
    {
     "data": {
      "text/html": [
       "<div>\n",
       "<table border=\"1\" class=\"dataframe\">\n",
       "  <thead>\n",
       "    <tr style=\"text-align: right;\">\n",
       "      <th></th>\n",
       "      <th>m</th>\n",
       "      <th>b</th>\n",
       "    </tr>\n",
       "  </thead>\n",
       "  <tbody>\n",
       "    <tr>\n",
       "      <th>exact</th>\n",
       "      <td>7.2</td>\n",
       "      <td>2.8</td>\n",
       "    </tr>\n",
       "    <tr>\n",
       "      <th>learned</th>\n",
       "      <td>7.2</td>\n",
       "      <td>2.8</td>\n",
       "    </tr>\n",
       "  </tbody>\n",
       "</table>\n",
       "</div>"
      ],
      "text/plain": [
       "           m    b\n",
       "exact    7.2  2.8\n",
       "learned  7.2  2.8"
      ]
     },
     "execution_count": 6,
     "metadata": {},
     "output_type": "execute_result"
    }
   ],
   "source": [
    "linear_regression(x, y, m, b)"
   ]
  },
  {
   "cell_type": "markdown",
   "metadata": {
    "collapsed": true
   },
   "source": [
    "# The real world is noisy."
   ]
  },
  {
   "cell_type": "code",
   "execution_count": 7,
   "metadata": {
    "collapsed": true
   },
   "outputs": [],
   "source": [
    "noise = np.random.normal(size=N)\n",
    "y += noise"
   ]
  },
  {
   "cell_type": "code",
   "execution_count": 8,
   "metadata": {
    "collapsed": false
   },
   "outputs": [
    {
     "data": {
      "image/png": "[encoded data removed]",
      "text/plain": [
       "<matplotlib.figure.Figure at 0x110c3acd0>"
      ]
     },
     "metadata": {},
     "output_type": "display_data"
    }
   ],
   "source": [
    "fig = plt.figure(figsize=(10,8))\n",
    "ax = fig.gca()\n",
    "ax.plot(x, y, 'o')\n",
    "ax.plot(x, m * x + b, 'r-')\n",
    "ax.set_xlabel('x')\n",
    "tmp = ax.set_ylabel('y')"
   ]
  },
  {
   "cell_type": "code",
   "execution_count": 9,
   "metadata": {
    "collapsed": false
   },
   "outputs": [
    {
     "data": {
      "text/html": [
       "<div>\n",
       "<table border=\"1\" class=\"dataframe\">\n",
       "  <thead>\n",
       "    <tr style=\"text-align: right;\">\n",
       "      <th></th>\n",
       "      <th>m</th>\n",
       "      <th>b</th>\n",
       "    </tr>\n",
       "  </thead>\n",
       "  <tbody>\n",
       "    <tr>\n",
       "      <th>exact</th>\n",
       "      <td>7.20</td>\n",
       "      <td>2.80</td>\n",
       "    </tr>\n",
       "    <tr>\n",
       "      <th>learned</th>\n",
       "      <td>7.45</td>\n",
       "      <td>2.84</td>\n",
       "    </tr>\n",
       "  </tbody>\n",
       "</table>\n",
       "</div>"
      ],
      "text/plain": [
       "            m     b\n",
       "exact    7.20  2.80\n",
       "learned  7.45  2.84"
      ]
     },
     "execution_count": 9,
     "metadata": {},
     "output_type": "execute_result"
    }
   ],
   "source": [
    "linear_regression(x, y, m, b)"
   ]
  },
  {
   "cell_type": "markdown",
   "metadata": {},
   "source": [
    "# Machine Learning Translation\n",
    "\n",
    "### You will see different notation<br/>in machine learning literature.\n",
    "### Instead of $y = mx + b$\n",
    "### it is $h(x) = \\theta_0 + \\theta_1 x$\n",
    "* ### $h(x)$ is the *hypothesis*.\n",
    "* ### $x$ is the *feature*.\n",
    "* ### $\\theta_0$ and $\\theta_1$ are *parameters*."
   ]
  },
  {
   "cell_type": "markdown",
   "metadata": {},
   "source": [
    "### Error is quantified with a *cost function*, <br/> $J(\\theta_0, \\theta_1)$, which you want to minimize.\n",
    "### \"Minimizing the error\" is really \"minimizing the cost function\"<br/>or \"minimizing $J(\\theta_0, \\theta_1)$\" to find $\\Theta$.\n",
    "### This *trains* the model.\n",
    "\n",
    "### You can extend it to *multiple features*:\n",
    "\n",
    "### $h(x) = \\theta_0 + \\theta_1 x_1 + \\theta_2 x_2 + \\ldots + \\theta_{j} x_{j}$"
   ]
  },
  {
   "cell_type": "markdown",
   "metadata": {},
   "source": [
    "## I've only gone over a simple regression case. </br>But there are so many other algorithms!\n",
    "</br>\n",
    "## Machine Learning consists of:\n",
    "* **Supervised Learning**: Data comes with labels or attributes we want to predict!\n",
    "    *  **Regression**: Continuous Output <br/> Example) Price of an apartment as function of square footage and zip code\n",
    "    *  **Classification**: Samples belong to discrete categories using labeled data and we want to predict the category of unlabeled data <br/> Example) spam or no spam\n",
    "*  **Unsupervised Learning**: Training data doesn't have target values/response. The goal may be to discover groups of similar examples within data (clustering)"
   ]
  },
  {
   "cell_type": "markdown",
   "metadata": {},
   "source": [
    "\n",
    "\n",
    "# Training Data vs Test Data\n",
    "- ML is about learning properties of a data set and applying them to new data.\n",
    "- Common to split data into 2 sets:\n",
    "    - Training data\n",
    "    - Test data\n",
    "\n",
    "You should always evaluate your model by fitting your test set and measuring the error."
   ]
  },
  {
   "cell_type": "markdown",
   "metadata": {
    "collapsed": true
   },
   "source": [
    "## You can do the same regression problem in the package scikit-learn in python"
   ]
  },
  {
   "cell_type": "code",
   "execution_count": 10,
   "metadata": {
    "collapsed": false
   },
   "outputs": [
    {
     "name": "stdout",
     "output_type": "stream",
     "text": [
      "x\n",
      "[ 0.24831941  0.87271944  0.58948746]\n",
      "X\n",
      "[[ 0.24831941]\n",
      " [ 0.87271944]\n",
      " [ 0.58948746]]\n"
     ]
    }
   ],
   "source": [
    "from sklearn import linear_model\n",
    "\n",
    "# Use only one feature as a column.\n",
    "X = x.reshape((x.shape[0], 1))\n",
    "\n",
    "print 'x'\n",
    "print x[:3]\n",
    "print 'X'\n",
    "print X[:3]"
   ]
  },
  {
   "cell_type": "code",
   "execution_count": 11,
   "metadata": {
    "collapsed": false
   },
   "outputs": [
    {
     "data": {
      "text/plain": [
       "(7.4517430072079733, 2.8416554520447042)"
      ]
     },
     "execution_count": 11,
     "metadata": {},
     "output_type": "execute_result"
    }
   ],
   "source": [
    "# Create linear regression object\n",
    "regr = linear_model.LinearRegression()\n",
    "\n",
    "# Train the model using the training sets\n",
    "regr.fit(X, y)\n",
    "\n",
    "# The coefficients\n",
    "regr.coef_[0], regr.intercept_"
   ]
  },
  {
   "cell_type": "markdown",
   "metadata": {},
   "source": [
    "## You can use the same format of input data to try out all of the packages available in scikit-learn!\n",
    "\n",
    "## The API is super simple! </br></br>\n",
    "## Let's try a toy data set and try it out."
   ]
  },
  {
   "cell_type": "code",
   "execution_count": 12,
   "metadata": {
    "collapsed": false
   },
   "outputs": [
    {
     "data": {
      "image/png": "[encoded data removed]",
      "text/plain": [
       "<IPython.core.display.Image object>"
      ]
     },
     "execution_count": 12,
     "metadata": {
      "image/png": {
       "width": 500
      }
     },
     "output_type": "execute_result"
    }
   ],
   "source": [
    "Image('files/mnist.png', width=500)"
   ]
  },
  {
   "cell_type": "code",
   "execution_count": 13,
   "metadata": {
    "collapsed": false
   },
   "outputs": [
    {
     "data": {
      "text/plain": [
       "['images', 'data', 'target_names', 'DESCR', 'target']"
      ]
     },
     "execution_count": 13,
     "metadata": {},
     "output_type": "execute_result"
    }
   ],
   "source": [
    "from sklearn.datasets import load_digits\n",
    "digits = load_digits()\n",
    "digits.keys()"
   ]
  },
  {
   "cell_type": "code",
   "execution_count": 14,
   "metadata": {
    "collapsed": false
   },
   "outputs": [
    {
     "data": {
      "text/plain": [
       "(1797, 8, 8)"
      ]
     },
     "execution_count": 14,
     "metadata": {},
     "output_type": "execute_result"
    }
   ],
   "source": [
    "digits.images.shape"
   ]
  },
  {
   "cell_type": "code",
   "execution_count": 15,
   "metadata": {
    "collapsed": false
   },
   "outputs": [
    {
     "data": {
      "text/plain": [
       "<matplotlib.image.AxesImage at 0x118a91250>"
      ]
     },
     "execution_count": 15,
     "metadata": {},
     "output_type": "execute_result"
    },
    {
     "data": {
      "image/png": "[encoded data removed]",
      "text/plain": [
       "<matplotlib.figure.Figure at 0x118a044d0>"
      ]
     },
     "metadata": {},
     "output_type": "display_data"
    }
   ],
   "source": [
    "plt.matshow(digits.images[0], cmap=plt.cm.Greys)"
   ]
  },
  {
   "cell_type": "code",
   "execution_count": 16,
   "metadata": {
    "collapsed": false
   },
   "outputs": [
    {
     "name": "stdout",
     "output_type": "stream",
     "text": [
      "[[  0.   0.   5.  13.   9.   1.   0.   0.]\n",
      " [  0.   0.  13.  15.  10.  15.   5.   0.]\n",
      " [  0.   3.  15.   2.   0.  11.   8.   0.]\n",
      " [  0.   4.  12.   0.   0.   8.   8.   0.]\n",
      " [  0.   5.   8.   0.   0.   9.   8.   0.]\n",
      " [  0.   4.  11.   0.   1.  12.   7.   0.]\n",
      " [  0.   2.  14.   5.  10.  12.   0.   0.]\n",
      " [  0.   0.   6.  13.  10.   0.   0.   0.]]\n"
     ]
    }
   ],
   "source": [
    "print(digits.images[0])"
   ]
  },
  {
   "cell_type": "code",
   "execution_count": 17,
   "metadata": {
    "collapsed": false
   },
   "outputs": [
    {
     "data": {
      "text/plain": [
       "(1797, 64)"
      ]
     },
     "execution_count": 17,
     "metadata": {},
     "output_type": "execute_result"
    }
   ],
   "source": [
    "digits.data.shape"
   ]
  },
  {
   "cell_type": "code",
   "execution_count": 18,
   "metadata": {
    "collapsed": false
   },
   "outputs": [
    {
     "data": {
      "text/plain": [
       "array([0, 1, 2, ..., 8, 9, 8])"
      ]
     },
     "execution_count": 18,
     "metadata": {},
     "output_type": "execute_result"
    }
   ],
   "source": [
    "digits.target"
   ]
  },
  {
   "cell_type": "code",
   "execution_count": 19,
   "metadata": {
    "collapsed": false
   },
   "outputs": [
    {
     "data": {
      "text/plain": [
       "(1797,)"
      ]
     },
     "execution_count": 19,
     "metadata": {},
     "output_type": "execute_result"
    }
   ],
   "source": [
    "digits.target.shape"
   ]
  },
  {
   "cell_type": "markdown",
   "metadata": {},
   "source": [
    "**Data is always a numpy array (or sparse matrix) of shape (n_samples, n_features)**\n",
    "\n",
    "Split the data:"
   ]
  },
  {
   "cell_type": "code",
   "execution_count": 20,
   "metadata": {
    "collapsed": false
   },
   "outputs": [
    {
     "name": "stdout",
     "output_type": "stream",
     "text": [
      "(1347, 64)\n",
      "(450, 64)\n",
      "(1347,)\n",
      "(450,)\n"
     ]
    }
   ],
   "source": [
    "from sklearn.cross_validation import train_test_split\n",
    "X_train, X_test, y_train, y_test = train_test_split(digits.data,\n",
    "                                                    digits.target)\n",
    "\n",
    "\n",
    "print(X_train.shape)\n",
    "print(X_test.shape)\n",
    "print(y_train.shape)\n",
    "print( y_test.shape)"
   ]
  },
  {
   "cell_type": "markdown",
   "metadata": {
    "collapsed": true
   },
   "source": [
    "Really Simple API\n",
    "-------------------\n",
    "0) Import your model class"
   ]
  },
  {
   "cell_type": "code",
   "execution_count": 21,
   "metadata": {
    "collapsed": true
   },
   "outputs": [],
   "source": [
    "from sklearn.svm import LinearSVC"
   ]
  },
  {
   "cell_type": "markdown",
   "metadata": {
    "collapsed": true
   },
   "source": [
    "1) Instantiate an object and set the parameters"
   ]
  },
  {
   "cell_type": "code",
   "execution_count": 22,
   "metadata": {
    "collapsed": true
   },
   "outputs": [],
   "source": [
    "svm = LinearSVC(C=0.1)"
   ]
  },
  {
   "cell_type": "markdown",
   "metadata": {
    "collapsed": true
   },
   "source": [
    "2) Fit the model"
   ]
  },
  {
   "cell_type": "code",
   "execution_count": 23,
   "metadata": {
    "collapsed": false
   },
   "outputs": [
    {
     "data": {
      "text/plain": [
       "LinearSVC(C=0.1, class_weight=None, dual=True, fit_intercept=True,\n",
       "     intercept_scaling=1, loss='squared_hinge', max_iter=1000,\n",
       "     multi_class='ovr', penalty='l2', random_state=None, tol=0.0001,\n",
       "     verbose=0)"
      ]
     },
     "execution_count": 23,
     "metadata": {},
     "output_type": "execute_result"
    }
   ],
   "source": [
    "svm.fit(X_train, y_train)"
   ]
  },
  {
   "cell_type": "markdown",
   "metadata": {
    "collapsed": true
   },
   "source": [
    "3) Apply / evaluate"
   ]
  },
  {
   "cell_type": "code",
   "execution_count": 24,
   "metadata": {
    "collapsed": false
   },
   "outputs": [
    {
     "name": "stdout",
     "output_type": "stream",
     "text": [
      "[8 5 0 7 0 2 2 1 9 4 7 4 3 4 7 2 6 6 9 3 3 4 3 6 9 6 5 3 9 5 9 4 1 2 3 1 2\n",
      " 7 8 3 3 5 0 2 4 2 9 7 4 6 9 6 9 5 7 2 5 6 7 8 3 2 2 8 5 7 2 0 8 9 0 0 3 6\n",
      " 2 8 6 4 7 1 4 0 7 4 9 8 4 7 4 9 5 7 1 2 7 3 1 7 0 3 0 0 6 0 6 0 9 4 3 2 3\n",
      " 1 8 0 2 4 8 1 0 8 9 9 9 1 6 6 1 0 3 9 4 1 1 5 9 5 9 3 0 7 3 2 6 4 6 7 8 9\n",
      " 2 5 3 4 6 9 2 1 4 0 6 1 5 3 1 1 2 1 5 5 1 1 4 0 8 1 3 4 3 5 4 5 2 4 0 1 1\n",
      " 2 8 1 3 5 0 3 5 6 5 3 4 6 9 7 4 2 4 5 5 7 3 1 2 0 4 9 2 4 3 4 3 9 7 9 6 8\n",
      " 3 4 7 5 6 9 4 5 6 6 7 3 5 6 3 0 4 2 3 1 3 6 2 7 9 5 2 8 7 0 6 2 0 3 0 7 8\n",
      " 3 1 2 3 5 3 9 1 7 9 6 7 0 8 1 4 7 7 2 5 2 1 0 9 4 8 7 6 0 5 1 8 2 6 2 2 2\n",
      " 0 7 1 1 1 2 1 6 5 2 7 6 4 3 0 7 5 5 8 3 4 9 3 1 1 4 8 9 6 3 8 5 8 7 4 4 3\n",
      " 0 0 3 8 2 4 8 8 2 7 0 2 9 5 4 6 0 8 8 5 5 7 9 0 3 5 2 8 1 5 9 3 0 8 8 3 1\n",
      " 4 0 4 3 4 6 4 8 1 9 0 6 5 6 0 6 4 4 6 7 4 5 5 1 8 9 6 3 1 4 4 6 1 0 6 2 0\n",
      " 9 0 0 6 6 4 3 3 6 0 8 2 1 8 3 5 0 3 9 7 3 0 0 3 8 6 8 4 9 4 0 2 2 8 7 2 2\n",
      " 3 9 8 3 5 2]\n",
      "[8 5 0 7 0 2 2 1 9 4 7 4 3 4 7 2 6 6 9 3 3 4 3 6 9 6 5 3 9 5 9 4 1 2 3 1 2\n",
      " 7 8 9 3 5 0 2 4 2 8 7 4 6 9 6 5 5 7 2 5 6 7 8 3 2 2 8 5 7 2 0 8 9 0 0 3 6\n",
      " 2 8 6 4 7 8 4 0 7 4 9 8 4 7 4 9 5 7 1 2 7 3 1 7 0 3 0 0 6 0 6 0 9 4 3 2 3\n",
      " 1 8 0 2 4 8 8 0 8 9 9 9 1 6 6 1 0 1 9 4 1 1 5 9 5 9 3 0 7 3 2 6 4 6 7 8 9\n",
      " 2 5 3 8 6 9 2 1 4 0 6 1 5 3 1 4 2 1 5 5 1 1 4 0 8 1 3 4 3 5 4 5 2 4 0 1 1\n",
      " 2 8 1 3 5 0 3 5 6 5 3 4 6 9 7 4 2 4 5 5 7 3 1 2 0 4 9 2 4 8 4 3 9 7 9 6 4\n",
      " 3 4 7 5 6 9 4 5 3 6 7 3 5 6 3 0 4 2 3 1 2 6 2 7 9 5 2 8 7 0 6 2 0 3 6 7 8\n",
      " 3 1 2 3 5 3 9 1 7 9 6 7 0 8 1 4 7 7 2 5 2 1 0 9 9 8 7 6 0 5 1 8 2 6 2 2 2\n",
      " 0 7 1 1 1 2 1 6 5 2 7 6 4 3 0 7 3 5 8 3 4 9 3 1 1 4 8 9 6 3 8 5 8 7 4 4 3\n",
      " 0 0 3 8 2 4 8 8 2 7 0 2 9 5 4 6 0 8 8 5 5 7 9 0 3 5 2 8 1 5 9 3 0 1 8 3 1\n",
      " 4 0 4 3 4 6 4 8 1 9 0 6 5 6 0 6 4 4 6 7 4 5 5 1 8 9 6 3 1 4 4 6 1 0 6 2 0\n",
      " 9 0 0 6 6 4 3 3 6 0 8 2 1 8 3 5 0 3 9 7 3 0 0 3 8 6 8 4 9 4 0 2 2 8 7 2 2\n",
      " 3 9 8 3 5 2]\n"
     ]
    }
   ],
   "source": [
    "print(svm.predict(X_test))\n",
    "print(y_test)"
   ]
  },
  {
   "cell_type": "markdown",
   "metadata": {},
   "source": [
    "## You can out many different algorithms just by importing new model classes."
   ]
  },
  {
   "cell_type": "markdown",
   "metadata": {
    "collapsed": true
   },
   "source": [
    "## Don't abuse the packages!\n",
    "The package makes it so easy to take the same dataset and plug and chug many times on\n",
    "all different algorithms.\n",
    "\n",
    "With great power comes great responsibility. Make sure you are employing the right scientific practices!"
   ]
  },
  {
   "cell_type": "markdown",
   "metadata": {},
   "source": [
    "# Thanks! Hope you learned something today.\n",
    "# Good luck hacking :D"
   ]
  },
  {
   "cell_type": "code",
   "execution_count": null,
   "metadata": {
    "collapsed": true
   },
   "outputs": [],
   "source": []
  }
 ],
 "metadata": {
  "kernelspec": {
   "display_name": "Python 2",
   "language": "python",
   "name": "python2"
  },
  "language_info": {
   "codemirror_mode": {
    "name": "ipython",
    "version": 2
   },
   "file_extension": ".py",
   "mimetype": "text/x-python",
   "name": "python",
   "nbconvert_exporter": "python",
   "pygments_lexer": "ipython2",
   "version": "2.7.11"
  }
 },
 "nbformat": 4,
 "nbformat_minor": 0
}
